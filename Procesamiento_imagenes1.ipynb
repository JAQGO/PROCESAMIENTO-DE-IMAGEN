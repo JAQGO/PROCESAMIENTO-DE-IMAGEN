{
 "cells": [
  {
   "cell_type": "markdown",
   "id": "d2d0abb8",
   "metadata": {},
   "source": [
    "### PROCESAMIENTO DE IMAGENES CON PYTHON"
   ]
  },
  {
   "cell_type": "code",
   "execution_count": 1,
   "id": "92772cec",
   "metadata": {},
   "outputs": [],
   "source": [
    "#importando librerias\n",
    "import numpy as np\n",
    "import imageio as io\n",
    "import cv2\n",
    "import matplotlib.pyplot as plt"
   ]
  },
  {
   "cell_type": "code",
   "execution_count": 2,
   "id": "e4c331b1",
   "metadata": {},
   "outputs": [],
   "source": [
    "# cargando imagen\n",
    "img_jpg = cv2.imread('146.jpg')\n",
    "img_jpg = cv2.resize(img_jpg, (1080, 720))"
   ]
  },
  {
   "cell_type": "code",
   "execution_count": 3,
   "id": "92cfcedd",
   "metadata": {},
   "outputs": [
    {
     "data": {
      "text/plain": [
       "-1"
      ]
     },
     "execution_count": 3,
     "metadata": {},
     "output_type": "execute_result"
    }
   ],
   "source": [
    "array = np.array([ [0, 1, 0],\n",
    "                   [0, 1, 0],\n",
    "                   [0, 1, 0]], np.uint8)\n",
    "img_jpg_gray = cv2.cvtColor(img_jpg, cv2.COLOR_BGR2GRAY)\n",
    "img_jpg_blur = cv2.GaussianBlur(img_jpg_gray, (3, 3), 1)\n",
    "\n",
    "img_jpg_canny = cv2.Canny(img_jpg_blur, 319, 150)\n",
    "img_jpg_canny2 = cv2.Canny(img_jpg_gray,189, 450)\n",
    "\n",
    "img_jpg_dilate = cv2.dilate(img_jpg_canny2, array, iterations=3)\n",
    "img_jpg_erode = cv2.erode(img_jpg_dilate, array, iterations=2)\n",
    "\n",
    "# cv2.imshow('Normal', img_jpg)\n",
    "# cv2.imshow('Gray', img_jpg_gray)\n",
    "# cv2.imshow('Blur', img_jpg_blur)\n",
    "cv2.imshow('Canny', img_jpg_canny)\n",
    "# cv2.imshow('Canny2', img_jpg_canny2)\n",
    "cv2.imshow('Dilate', img_jpg_dilate)\n",
    "cv2.imshow('Erode', img_jpg_erode)\n",
    "\n",
    "cv2.waitKey(0)"
   ]
  }
 ],
 "metadata": {
  "interpreter": {
   "hash": "63ea96290d3aa84eab301af82d624bbb486a250c20c91721987aef0c94b95b09"
  },
  "kernelspec": {
   "display_name": "Python 3.9.12 ('base')",
   "language": "python",
   "name": "python3"
  },
  "language_info": {
   "codemirror_mode": {
    "name": "ipython",
    "version": 3
   },
   "file_extension": ".py",
   "mimetype": "text/x-python",
   "name": "python",
   "nbconvert_exporter": "python",
   "pygments_lexer": "ipython3",
   "version": "3.9.12"
  }
 },
 "nbformat": 4,
 "nbformat_minor": 5
}
